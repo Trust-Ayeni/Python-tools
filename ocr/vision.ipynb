{
 "cells": [
  {
   "cell_type": "code",
   "execution_count": 1,
   "metadata": {},
   "outputs": [],
   "source": [
    "import os\n",
    "import pytesseract as tess\n",
    "import tkinter as tk\n",
    "from tkinter import filedialog, StringVar, IntVar\n",
    "import pandas as pd\n",
    "import cv2\n",
    "from pytesseract import Output\n",
    "import csv\n",
    "\n",
    "\n",
    "tess.pytesseract.tesseract_cmd = 'C:/Program Files (x86)/Tessaract/tesseract.exe'\n",
    "tessdata_dir_config = '--tessdata-dir \"C:/Program Files (x86)/Tessaract/tessdata\"'\n",
    "root = tk.Tk()\n",
    "\n",
    "# reading image using opencv\n",
    "image = cv2.imread('1.PNG')\n",
    "\n",
    "#converting image into gray scale image\n",
    "gray_image = cv2.cvtColor(image, cv2.COLOR_BGR2GRAY)\n",
    "\n",
    "# converting it to binary image by Thresholding\n",
    "# this step is require if you have colored image because if you skip this part\n",
    "# then tesseract won't able to detect text correctly and this will give incorrect result\n",
    "threshold_img = cv2.threshold(gray_image, 155, 255, cv2.THRESH_TOZERO | cv2.THRESH_BINARY)[1]\n",
    "\n",
    "# display image\n",
    "cv2.imshow('gray image', threshold_img)\n",
    "\n",
    "# Maintain output window until user presses a key, 0 indicates indefinite wait unless closed by the programmer. other values are measured in miliseconds\n",
    "cv2.waitKey(0)\n",
    "\n",
    "# Destroying present windows on screen\n",
    "cv2.destroyAllWindows()\n"
   ]
  },
  {
   "cell_type": "code",
   "execution_count": 2,
   "metadata": {},
   "outputs": [
    {
     "name": "stdout",
     "output_type": "stream",
     "text": [
      "{'level': [1, 2, 3, 4, 5, 5, 5, 5, 5, 5, 5, 5, 5, 5, 5, 4, 5, 5, 5, 5, 5, 5, 5, 5, 5, 5, 5, 5, 4, 5, 5, 5, 5, 5, 5, 5, 5, 5, 5, 5, 5, 5, 4, 5, 5, 5, 5, 5, 5, 5, 5, 5, 4, 5, 5, 5, 5, 5, 5, 5, 5, 5, 5, 4, 5, 5, 5, 5, 5, 5, 5, 5, 5, 4, 5, 5, 5, 5, 5, 5, 5, 5, 5, 5, 5, 5, 4, 5], 'page_num': [1, 1, 1, 1, 1, 1, 1, 1, 1, 1, 1, 1, 1, 1, 1, 1, 1, 1, 1, 1, 1, 1, 1, 1, 1, 1, 1, 1, 1, 1, 1, 1, 1, 1, 1, 1, 1, 1, 1, 1, 1, 1, 1, 1, 1, 1, 1, 1, 1, 1, 1, 1, 1, 1, 1, 1, 1, 1, 1, 1, 1, 1, 1, 1, 1, 1, 1, 1, 1, 1, 1, 1, 1, 1, 1, 1, 1, 1, 1, 1, 1, 1, 1, 1, 1, 1, 1, 1], 'block_num': [0, 1, 1, 1, 1, 1, 1, 1, 1, 1, 1, 1, 1, 1, 1, 1, 1, 1, 1, 1, 1, 1, 1, 1, 1, 1, 1, 1, 1, 1, 1, 1, 1, 1, 1, 1, 1, 1, 1, 1, 1, 1, 1, 1, 1, 1, 1, 1, 1, 1, 1, 1, 1, 1, 1, 1, 1, 1, 1, 1, 1, 1, 1, 1, 1, 1, 1, 1, 1, 1, 1, 1, 1, 1, 1, 1, 1, 1, 1, 1, 1, 1, 1, 1, 1, 1, 1, 1], 'par_num': [0, 0, 1, 1, 1, 1, 1, 1, 1, 1, 1, 1, 1, 1, 1, 1, 1, 1, 1, 1, 1, 1, 1, 1, 1, 1, 1, 1, 1, 1, 1, 1, 1, 1, 1, 1, 1, 1, 1, 1, 1, 1, 1, 1, 1, 1, 1, 1, 1, 1, 1, 1, 1, 1, 1, 1, 1, 1, 1, 1, 1, 1, 1, 1, 1, 1, 1, 1, 1, 1, 1, 1, 1, 1, 1, 1, 1, 1, 1, 1, 1, 1, 1, 1, 1, 1, 1, 1], 'line_num': [0, 0, 0, 1, 1, 1, 1, 1, 1, 1, 1, 1, 1, 1, 1, 2, 2, 2, 2, 2, 2, 2, 2, 2, 2, 2, 2, 2, 3, 3, 3, 3, 3, 3, 3, 3, 3, 3, 3, 3, 3, 3, 4, 4, 4, 4, 4, 4, 4, 4, 4, 4, 5, 5, 5, 5, 5, 5, 5, 5, 5, 5, 5, 6, 6, 6, 6, 6, 6, 6, 6, 6, 6, 7, 7, 7, 7, 7, 7, 7, 7, 7, 7, 7, 7, 7, 8, 8], 'word_num': [0, 0, 0, 0, 1, 2, 3, 4, 5, 6, 7, 8, 9, 10, 11, 0, 1, 2, 3, 4, 5, 6, 7, 8, 9, 10, 11, 12, 0, 1, 2, 3, 4, 5, 6, 7, 8, 9, 10, 11, 12, 13, 0, 1, 2, 3, 4, 5, 6, 7, 8, 9, 0, 1, 2, 3, 4, 5, 6, 7, 8, 9, 10, 0, 1, 2, 3, 4, 5, 6, 7, 8, 9, 0, 1, 2, 3, 4, 5, 6, 7, 8, 9, 10, 11, 12, 0, 1], 'left': [0, 7, 7, 8, 8, 118, 165, 194, 229, 247, 326, 346, 395, 446, 462, 8, 8, 62, 98, 156, 191, 227, 295, 327, 380, 429, 462, 501, 7, 7, 89, 105, 148, 165, 212, 231, 265, 307, 325, 344, 379, 491, 8, 8, 61, 125, 158, 262, 326, 365, 427, 491, 8, 8, 60, 96, 138, 200, 258, 367, 434, 466, 501, 8, 8, 92, 188, 210, 277, 364, 395, 446, 481, 8, 8, 62, 137, 165, 208, 238, 270, 298, 341, 371, 402, 481, 8, 8], 'top': [0, 6, 6, 6, 7, 6, 6, 7, 6, 6, 8, 8, 6, 7, 6, 33, 33, 33, 33, 37, 33, 33, 33, 33, 33, 33, 34, 33, 61, 61, 68, 61, 61, 61, 61, 61, 61, 61, 61, 63, 61, 61, 88, 90, 88, 88, 90, 88, 92, 88, 92, 88, 115, 117, 115, 119, 119, 115, 115, 115, 115, 115, 115, 142, 142, 142, 144, 142, 142, 142, 144, 142, 146, 170, 170, 170, 170, 170, 170, 170, 170, 172, 170, 170, 170, 174, 197, 197], 'width': [530, 508, 508, 505, 103, 42, 23, 27, 14, 74, 14, 43, 45, 10, 51, 507, 44, 26, 48, 25, 26, 59, 23, 42, 40, 23, 27, 14, 507, 74, 9, 35, 10, 40, 11, 27, 35, 10, 10, 26, 105, 23, 506, 46, 58, 26, 97, 58, 33, 56, 58, 23, 507, 42, 26, 33, 52, 48, 99, 57, 22, 25, 14, 506, 74, 86, 13, 58, 77, 22, 42, 27, 33, 506, 48, 70, 22, 38, 26, 26, 22, 37, 25, 26, 74, 33, 47, 47], 'height': [211, 203, 203, 15, 14, 15, 12, 11, 12, 12, 10, 10, 12, 11, 12, 15, 12, 12, 15, 11, 12, 12, 12, 15, 12, 12, 11, 12, 15, 12, 1, 12, 12, 15, 12, 12, 12, 12, 12, 13, 15, 12, 15, 13, 12, 12, 13, 15, 11, 15, 11, 12, 15, 10, 12, 11, 11, 12, 12, 15, 12, 12, 12, 15, 15, 15, 10, 12, 15, 12, 10, 12, 11, 15, 15, 15, 12, 12, 12, 12, 12, 10, 12, 12, 15, 11, 12, 12], 'conf': ['-1', '-1', '-1', '-1', 96, 96, 95, 96, 96, 96, 96, 96, 93, 93, 96, '-1', 96, 96, 95, 96, 96, 96, 96, 90, 96, 96, 96, 96, '-1', 86, 89, 96, 96, 96, 96, 96, 96, 95, 94, 94, 96, 96, '-1', 96, 96, 96, 96, 95, 96, 96, 95, 96, '-1', 96, 96, 96, 96, 96, 96, 96, 96, 95, 95, '-1', 81, 96, 96, 95, 95, 96, 96, 96, 96, '-1', 96, 96, 96, 95, 96, 96, 96, 96, 96, 96, 96, 95, '-1', 96], 'text': ['', '', '', '', 'Description:', 'Using', 'the', 'Law', 'of', 'Attraction', 'to', 'create', 'health', '&', 'wealth.', '', 'Inside', 'this', 'eBook,', 'you', 'will', 'discover', 'the', 'topics', 'about', 'the', 'Law', 'of', '', 'Attraction', '—', 'what', 'it', 'really', 'is', 'and', 'what', 'it', 'is', 'not,', 'understanding', 'the', '', 'secret,', 'mindset', 'and', 'management,', 'pivoting', 'your', 'thought', 'process,', 'the', '', 'secret', 'and', 'your', 'money,', 'wealth', 'manifestation', 'through', 'the', 'law', 'of', '', 'attraction,', 'applications', 'to', 'internet', 'marketing,', 'the', 'secret', 'and', 'your', '', 'health,', 'balancing', 'the', 'inner', 'self', 'and', 'the', 'outer', 'self', 'and', 'improving', 'your', '', 'future.']}\n"
     ]
    }
   ],
   "source": [
    "#configuring parameters for tesseract\n",
    "# now feeding image to tesseract\n",
    "details = tess.image_to_data(threshold_img, output_type=Output.DICT, config=tessdata_dir_config)\n",
    "print(details)"
   ]
  },
  {
   "cell_type": "code",
   "execution_count": 3,
   "metadata": {},
   "outputs": [],
   "source": [
    "n_boxes = len(details['text'])\n",
    "for i in range(n_boxes):\n",
    "    if int(details['conf'][i]) > 20:\n",
    "        (x, y, w, h) = (details['left'][i], details['top'][i], details['width'][i], details['height'][i])\n",
    "        threshold_img = cv2.rectangle(threshold_img, (x, y), (x + w, y + h), (0, 255, 0), 2)\n",
    "\n",
    "cv2.imshow('captured text', threshold_img)\n",
    "cv2.waitKey(0)\n",
    "\n",
    "# Destroying present windows on screen\n",
    "cv2.destroyAllWindows()"
   ]
  },
  {
   "cell_type": "code",
   "execution_count": 4,
   "metadata": {},
   "outputs": [],
   "source": [
    "parse_text = []\n",
    "word_list = []\n",
    "last_word = []\n",
    "\n",
    "for word in details['text']:\n",
    "    if word!='':\n",
    "        word_list.append(word)\n",
    "        last_word = word\n",
    "    if (last_word!='' and word == '') or (word==details['text'][-1]):\n",
    "        parse_text.append(word_list)\n",
    "        word_list = []\n",
    "        "
   ]
  },
  {
   "cell_type": "code",
   "execution_count": 5,
   "metadata": {},
   "outputs": [],
   "source": [
    "with open ('results.txt', 'w', newline='') as file:\n",
    "    csv.writer(file, delimiter = \" \").writerows(parse_text)"
   ]
  },
  {
   "cell_type": "code",
   "execution_count": null,
   "metadata": {},
   "outputs": [],
   "source": []
  }
 ],
 "metadata": {
  "kernelspec": {
   "display_name": "Python 3.9.12 ('base')",
   "language": "python",
   "name": "python3"
  },
  "language_info": {
   "codemirror_mode": {
    "name": "ipython",
    "version": 3
   },
   "file_extension": ".py",
   "mimetype": "text/x-python",
   "name": "python",
   "nbconvert_exporter": "python",
   "pygments_lexer": "ipython3",
   "version": "3.9.12"
  },
  "orig_nbformat": 2,
  "vscode": {
   "interpreter": {
    "hash": "ad2bdc8ecc057115af97d19610ffacc2b4e99fae6737bb82f5d7fb13d2f2c186"
   }
  }
 },
 "nbformat": 4,
 "nbformat_minor": 2
}
