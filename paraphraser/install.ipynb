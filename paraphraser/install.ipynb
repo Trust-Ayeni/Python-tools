{
 "cells": [
  {
   "cell_type": "code",
   "execution_count": null,
   "metadata": {},
   "outputs": [],
   "source": [
    " pip install sentence-splitter"
   ]
  },
  {
   "cell_type": "code",
   "execution_count": null,
   "metadata": {},
   "outputs": [],
   "source": [
    "pip install transformers"
   ]
  },
  {
   "cell_type": "code",
   "execution_count": null,
   "metadata": {},
   "outputs": [],
   "source": [
    "pip install SentencePiece"
   ]
  },
  {
   "cell_type": "code",
   "execution_count": null,
   "metadata": {},
   "outputs": [],
   "source": [
    "pip install torch"
   ]
  },
  {
   "cell_type": "code",
   "execution_count": 1,
   "metadata": {},
   "outputs": [
    {
     "name": "stdout",
     "output_type": "stream",
     "text": [
      "Collecting opencv-contrib-python\n",
      "  Downloading opencv_contrib_python-4.5.5.62-cp36-abi3-win_amd64.whl (42.2 MB)\n",
      "Requirement already satisfied: numpy>=1.17.3 in c:\\users\\trust\\anaconda3\\lib\\site-packages (from opencv-contrib-python) (1.20.1)\n",
      "Installing collected packages: opencv-contrib-python\n",
      "Successfully installed opencv-contrib-python-4.5.5.62\n",
      "Note: you may need to restart the kernel to use updated packages.\n"
     ]
    }
   ],
   "source": [
    "pip install opencv-contrib-python --upgrade  "
   ]
  },
  {
   "cell_type": "code",
   "execution_count": 1,
   "metadata": {},
   "outputs": [
    {
     "name": "stdout",
     "output_type": "stream",
     "text": [
      "Collecting gensim\n",
      "  Downloading gensim-4.1.2-cp38-cp38-win_amd64.whl (24.0 MB)\n",
      "Requirement already satisfied: numpy>=1.17.0 in c:\\users\\trust\\anaconda3\\lib\\site-packages (from gensim) (1.20.1)\n",
      "Requirement already satisfied: smart-open>=1.8.1 in c:\\users\\trust\\anaconda3\\lib\\site-packages (from gensim) (5.2.1)\n",
      "Requirement already satisfied: scipy>=0.18.1 in c:\\users\\trust\\anaconda3\\lib\\site-packages (from gensim) (1.6.2)\n",
      "Requirement already satisfied: Cython==0.29.23 in c:\\users\\trust\\anaconda3\\lib\\site-packages (from gensim) (0.29.23)\n",
      "Installing collected packages: gensim\n",
      "Successfully installed gensim-4.1.2\n",
      "Note: you may need to restart the kernel to use updated packages.\n"
     ]
    }
   ],
   "source": [
    "pip install gensim"
   ]
  },
  {
   "cell_type": "code",
   "execution_count": 2,
   "metadata": {},
   "outputs": [
    {
     "name": "stdout",
     "output_type": "stream",
     "text": [
      "Collecting pdfminer\n",
      "  Downloading pdfminer-20191125.tar.gz (4.2 MB)\n",
      "Collecting pycryptodome\n",
      "  Downloading pycryptodome-3.14.1-cp35-abi3-win_amd64.whl (1.8 MB)\n",
      "Building wheels for collected packages: pdfminer\n",
      "  Building wheel for pdfminer (setup.py): started\n",
      "  Building wheel for pdfminer (setup.py): finished with status 'done'\n",
      "  Created wheel for pdfminer: filename=pdfminer-20191125-py3-none-any.whl size=6140123 sha256=f3114cc625c1ef23267c4ed9b599eeef54c638cead1c0dea3ba453a9b23d5f62\n",
      "  Stored in directory: c:\\users\\trust\\appdata\\local\\pip\\cache\\wheels\\1c\\28\\7d\\f390b82bb0307deb63ff27a1474fd308ec68ee028cb9ab6283\n",
      "Successfully built pdfminer\n",
      "Installing collected packages: pycryptodome, pdfminer\n",
      "Successfully installed pdfminer-20191125 pycryptodome-3.14.1\n",
      "Note: you may need to restart the kernel to use updated packages.\n"
     ]
    }
   ],
   "source": [
    "pip install pdfminer"
   ]
  },
  {
   "cell_type": "code",
   "execution_count": 4,
   "metadata": {},
   "outputs": [
    {
     "name": "stdout",
     "output_type": "stream",
     "text": [
      "Requirement already satisfied: camelot in c:\\users\\trust\\anaconda3\\lib\\site-packages (12.6.29)\n",
      "Requirement already satisfied: Elixir>=0.7.1 in c:\\users\\trust\\anaconda3\\lib\\site-packages (from camelot) (0.7.1)\n",
      "Requirement already satisfied: chardet>=1.0.1 in c:\\users\\trust\\anaconda3\\lib\\site-packages (from camelot) (4.0.0)\n",
      "Requirement already satisfied: sqlalchemy-migrate>=0.7.1 in c:\\users\\trust\\anaconda3\\lib\\site-packages (from camelot) (0.11.0)\n",
      "Requirement already satisfied: xlrd==0.7.1 in c:\\users\\trust\\anaconda3\\lib\\site-packages (from camelot) (0.7.1)\n",
      "Requirement already satisfied: Jinja2>=2.5.5 in c:\\users\\trust\\anaconda3\\lib\\site-packages (from camelot) (2.11.3)\n",
      "Requirement already satisfied: SQLAlchemy<0.8.0,>=0.7.7 in c:\\users\\trust\\anaconda3\\lib\\site-packages (from camelot) (0.7.10)\n",
      "Requirement already satisfied: xlwt==0.7.2 in c:\\users\\trust\\anaconda3\\lib\\site-packages (from camelot) (0.7.2)\n",
      "Requirement already satisfied: MarkupSafe>=0.23 in c:\\users\\trust\\anaconda3\\lib\\site-packages (from Jinja2>=2.5.5->camelot) (1.1.1)\n",
      "Requirement already satisfied: Tempita>=0.4 in c:\\users\\trust\\anaconda3\\lib\\site-packages (from sqlalchemy-migrate>=0.7.1->camelot) (0.5.2)\n",
      "Requirement already satisfied: six>=1.7.0 in c:\\users\\trust\\anaconda3\\lib\\site-packages (from sqlalchemy-migrate>=0.7.1->camelot) (1.15.0)\n",
      "Requirement already satisfied: decorator in c:\\users\\trust\\anaconda3\\lib\\site-packages (from sqlalchemy-migrate>=0.7.1->camelot) (5.0.6)\n",
      "Requirement already satisfied: sqlparse in c:\\users\\trust\\anaconda3\\lib\\site-packages (from sqlalchemy-migrate>=0.7.1->camelot) (0.4.2)\n",
      "Requirement already satisfied: pbr>=1.8 in c:\\users\\trust\\anaconda3\\lib\\site-packages (from sqlalchemy-migrate>=0.7.1->camelot) (5.8.1)\n",
      "Note: you may need to restart the kernel to use updated packages.\n"
     ]
    }
   ],
   "source": [
    "pip install camelot"
   ]
  },
  {
   "cell_type": "code",
   "execution_count": null,
   "metadata": {},
   "outputs": [],
   "source": []
  }
 ],
 "metadata": {
  "interpreter": {
   "hash": "7e4a145a50e120770814ae6c9986681bab1e6abeb6e6576d2aba2c6a03df04d2"
  },
  "kernelspec": {
   "display_name": "Python 3.8.8 ('base')",
   "language": "python",
   "name": "python3"
  },
  "language_info": {
   "codemirror_mode": {
    "name": "ipython",
    "version": 3
   },
   "file_extension": ".py",
   "mimetype": "text/x-python",
   "name": "python",
   "nbconvert_exporter": "python",
   "pygments_lexer": "ipython3",
   "version": "3.8.8"
  },
  "orig_nbformat": 4
 },
 "nbformat": 4,
 "nbformat_minor": 2
}
